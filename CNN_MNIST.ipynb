{
 "cells": [
  {
   "cell_type": "code",
   "execution_count": 58,
   "metadata": {},
   "outputs": [],
   "source": [
    "import numpy as np\n",
    "import h5py\n",
    "import time\n",
    "import copy\n",
    "from random import randint\n",
    "\n",
    "#READING THE DATA\n",
    "MNIST_data = h5py.File('MNISTdata.hdf5', 'r')\n",
    "x_train = np.float32(MNIST_data['x_train'][:] )\n",
    "y_train = np.int32(np.array(MNIST_data['y_train'][:,0]))\n",
    "x_test = np.float32( MNIST_data['x_test'][:] )\n",
    "y_test = np.int32( np.array( MNIST_data['y_test'][:,0] ) )\n",
    "MNIST_data.close()"
   ]
  },
  {
   "cell_type": "code",
   "execution_count": 59,
   "metadata": {},
   "outputs": [],
   "source": [
    "x_train = x_train.reshape(60000,28,28)\n",
    "x_test = x_test.reshape(10000,28, 28)"
   ]
  },
  {
   "cell_type": "code",
   "execution_count": 60,
   "metadata": {},
   "outputs": [],
   "source": [
    "def convolve2d(image, kernel):\n",
    "    # This function which takes an image and a kernel \n",
    "    # and returns the convolution of them\n",
    "    # Args:\n",
    "    #   image: a numpy array of size [image_height, image_width].\n",
    "    \n",
    "    # Returns:\n",
    "    #   a numpy array of size [image height,image width,no. of channels]\n",
    "    \n",
    "    output = np.zeros((image.shape[0]-kernel.shape[0]+1,image.shape[1]-kernel.shape[1]+1,kernel.shape[2])) # convolution output\n",
    "\n",
    "    for x in range(image.shape[0]-kernel.shape[0]+1):     # Loop over every pixel of the image\n",
    "        for y in range(image.shape[1]-kernel.shape[1]+1):\n",
    "            # element-wise multiplication of the kernel and the image\n",
    "            output[x,y]=np.sum(kernel * image[x:x+kernel.shape[0],y:y+kernel.shape[1],:], axis=(0,1))   \n",
    "            #output[x,y]\n",
    "    return output"
   ]
  },
  {
   "cell_type": "code",
   "execution_count": 61,
   "metadata": {},
   "outputs": [],
   "source": [
    "# kernel(filter): a numpy array of size [kernel_height, kernel_width, no. of channels].\n",
    "def initialize_filter(ky, kx, C):\n",
    "    kernel = np.random.randn(ky,kx,C) / np.sqrt(28)\n",
    "    return kernel"
   ]
  },
  {
   "cell_type": "code",
   "execution_count": 62,
   "metadata": {},
   "outputs": [],
   "source": [
    "#initializing filter parameters\n",
    "ky = 3\n",
    "kx = 3\n",
    "C = 5"
   ]
  },
  {
   "cell_type": "code",
   "execution_count": 63,
   "metadata": {},
   "outputs": [],
   "source": [
    "#initializing parameters\n",
    "W = np.random.randn(10,28 - ky +1, 28-kx +1, C) / np.sqrt((28-ky+1) * (28-kx + 1) * (C))\n",
    "b = np.zeros(10)\n",
    "Kernel = initialize_filter(ky, kx, C)"
   ]
  },
  {
   "cell_type": "code",
   "execution_count": 64,
   "metadata": {},
   "outputs": [],
   "source": [
    "#initialize epoch and learning rate\n",
    "EPOCHS = 10\n",
    "LR = 0.01"
   ]
  },
  {
   "cell_type": "code",
   "execution_count": 65,
   "metadata": {},
   "outputs": [
    {
     "name": "stdout",
     "output_type": "stream",
     "text": [
      "Test accuracy after epoch no. 1: 0.9626\n",
      "Test accuracy after epoch no. 2: 0.9691\n",
      "Test accuracy after epoch no. 3: 0.9734\n",
      "Test accuracy after epoch no. 4: 0.9752\n",
      "Test accuracy after epoch no. 5: 0.973\n",
      "Test accuracy after epoch no. 6: 0.9791\n",
      "Test accuracy after epoch no. 7: 0.98\n",
      "Test accuracy after epoch no. 8: 0.98\n",
      "Test accuracy after epoch no. 9: 0.9792\n",
      "Test accuracy after epoch no. 10: 0.9793\n"
     ]
    }
   ],
   "source": [
    "#training\n",
    "for epoch in range(EPOCHS):\n",
    "\n",
    "    #Decreasing the LR after every 5 epochs\n",
    "    if (epoch > 4):\n",
    "        LR = 0.001\n",
    "    if (epoch > 9):\n",
    "        LR = 0.0001\n",
    "    if (epoch > 14):\n",
    "        LR = 0.00001\n",
    "        \n",
    "    for each_image in range(len(x_train)):\n",
    "        n_random = randint(0, len(x_train)-1) #random number bw 0 and len(x_train) - 1\n",
    "        x = x_train[n_random] \n",
    "        \n",
    "        x_t = x.reshape(28,28,1)\n",
    "        \n",
    "    \n",
    "        #Foward step\n",
    "        Z = convolve2d(x_t, Kernel) #convolution\n",
    "        H = np.maximum(Z,0)\n",
    "        U = np.sum(W*H, axis=(1,2,3)) + b\n",
    "        \n",
    "        m = U - np.max(U) #Trick to stablize exponentiation\n",
    "        y_hat = np.exp(m)/np.sum(np.exp(m)) #softmax layer\n",
    "    \n",
    "        #Calculating loss\n",
    "        loss = - np.log(y_hat[y_train[n_random]]) #Cross entropy\n",
    "      \n",
    "        #Calculating gradient\n",
    "        e_Y = np.zeros(10)\n",
    "        e_Y[y_train[n_random]] = 1.0 #One hot encoding of y\n",
    "        db = - (e_Y - y_hat) #dL/db\n",
    "        dW = db.reshape(10,1,1,1) * H    \n",
    "        delta = np.sum(db.reshape(10,1,1,1) * W, axis=0)\n",
    "       \n",
    "        dZ = ((Z > 0) * 1.0)\n",
    "        dk = convolve2d(x_t, dZ * delta)\n",
    "       \n",
    "    \n",
    "        #Updating parameters\n",
    "        b = b - LR * db\n",
    "        Kernel = Kernel - LR * dk\n",
    "        W = W - LR * dW\n",
    "    \n",
    "    #Accuracy\n",
    "    total_correct = 0\n",
    "    for n in range(len(x_test)):\n",
    "        y = y_test[n]\n",
    "        image = x_test[n]\n",
    "        Z = convolve2d(image.reshape(28,28,1), Kernel)\n",
    "        H = np.maximum(Z,0)\n",
    "        U = np.sum(W*H, axis=(1,2,3)) + b\n",
    "        m = U - np.max(U) #stablize exponentiation\n",
    "        y_hat = np.exp(m)/np.sum(np.exp(m))\n",
    "        prediction = np.argmax(y_hat)\n",
    "        if (prediction == y):\n",
    "            total_correct += 1\n",
    "    print(\"Test accuracy after epoch no. \" + str(epoch+1) + \": \" + str(total_correct/np.float(len(x_test))))"
   ]
  },
  {
   "cell_type": "code",
   "execution_count": null,
   "metadata": {},
   "outputs": [],
   "source": []
  }
 ],
 "metadata": {
  "kernelspec": {
   "display_name": "Python 3",
   "language": "python",
   "name": "python3"
  },
  "language_info": {
   "codemirror_mode": {
    "name": "ipython",
    "version": 3
   },
   "file_extension": ".py",
   "mimetype": "text/x-python",
   "name": "python",
   "nbconvert_exporter": "python",
   "pygments_lexer": "ipython3",
   "version": "3.7.1"
  }
 },
 "nbformat": 4,
 "nbformat_minor": 2
}
